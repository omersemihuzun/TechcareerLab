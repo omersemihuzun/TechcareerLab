{
 "cells": [
  {
   "cell_type": "markdown",
   "id": "ccc0b114",
   "metadata": {},
   "source": [
    "1.Answer"
   ]
  },
  {
   "cell_type": "code",
   "execution_count": 1,
   "id": "70f8de6f",
   "metadata": {},
   "outputs": [
    {
     "name": "stdout",
     "output_type": "stream",
     "text": [
      "Benzersiz: [100, 92, 85, 76]\n",
      "En yüksek: 100\n",
      "En düşük: 76\n",
      "Sıralı: [76, 76, 85, 85, 92, 92, 92, 100]\n"
     ]
    }
   ],
   "source": [
    "notlar = [85, 92, 76, 92, 100, 76, 85, 92]\n",
    "\n",
    "# Tekrar edenleri silip benzersiz liste\n",
    "benzersiz = list(set(notlar))\n",
    "'''\n",
    "benzersiz = []\n",
    "for n in notlar:\n",
    "    if n not in benzersiz:\n",
    "        benzersiz.append(n)\n",
    "'''\n",
    "# En yüksek ve en düşük not\n",
    "en_yuksek = max(notlar)\n",
    "en_dusuk = min(notlar)\n",
    "\n",
    "# Küçükten büyüğe sıralama\n",
    "sirali = sorted(notlar)\n",
    "\n",
    "print(\"Benzersiz:\", benzersiz)\n",
    "print(\"En yüksek:\", en_yuksek)\n",
    "print(\"En düşük:\", en_dusuk)\n",
    "print(\"Sıralı:\", sirali)"
   ]
  },
  {
   "cell_type": "markdown",
   "id": "67d03cad",
   "metadata": {},
   "source": [
    "2.Answer"
   ]
  },
  {
   "cell_type": "code",
   "execution_count": 2,
   "id": "cd79bc6f",
   "metadata": {},
   "outputs": [
    {
     "name": "stdout",
     "output_type": "stream",
     "text": [
      "True\n",
      "False\n"
     ]
    }
   ],
   "source": [
    "def armstrong_check(sayi):\n",
    "    toplam = 0\n",
    "    for h in str(sayi):\n",
    "        toplam += int(h) ** 3\n",
    "    return toplam == sayi\n",
    "'''\n",
    "toplam = sum(int(h)**3 for h in str(sayi))\n",
    "    return toplam == sayi\n",
    "'''\n",
    "print(armstrong_check(153))  # True\n",
    "print(armstrong_check(250))  # False\n"
   ]
  },
  {
   "cell_type": "markdown",
   "id": "3e2b3aca",
   "metadata": {},
   "source": [
    "3.Answer"
   ]
  },
  {
   "cell_type": "code",
   "execution_count": 3,
   "id": "bf78db4a",
   "metadata": {},
   "outputs": [
    {
     "name": "stdout",
     "output_type": "stream",
     "text": [
      "Ortak: {'SQL', 'Python'}\n",
      "Sadece A: {'Java', 'R'}\n",
      "Birleşim: ['C++', 'Java', 'JavaScript', 'Python', 'R', 'SQL']\n"
     ]
    }
   ],
   "source": [
    "A = {\"Python\", \"R\", \"SQL\", \"Java\"}\n",
    "B = {\"C++\", \"Python\", \"JavaScript\", \"SQL\"}\n",
    "\n",
    "print(\"Ortak:\", A & B)\n",
    "print(\"Sadece A:\", A - B)\n",
    "print(\"Birleşim:\", sorted(A | B))\n"
   ]
  },
  {
   "cell_type": "markdown",
   "id": "3d18f6fc",
   "metadata": {},
   "source": [
    "4.Answer"
   ]
  },
  {
   "cell_type": "code",
   "execution_count": 9,
   "id": "4523cf2a",
   "metadata": {},
   "outputs": [
    {
     "name": "stdout",
     "output_type": "stream",
     "text": [
      "Sayilar: [92, 25, 24, 85, 84, 32, 66, 14, 96, 36]\n",
      "Ortalama: 55.4\n",
      "Standart Sapma: 32.21869712518563\n"
     ]
    }
   ],
   "source": [
    "import random, statistics\n",
    "\n",
    "sayilar = [random.randint(1,100) for _ in range(10)]\n",
    "\n",
    "ortalama = statistics.mean(sayilar)\n",
    "sapma = statistics.stdev(sayilar)\n",
    "\n",
    "print(\"Sayilar:\", sayilar)\n",
    "print(\"Ortalama:\", ortalama)\n",
    "print(\"Standart Sapma:\", sapma)\n"
   ]
  },
  {
   "cell_type": "markdown",
   "id": "35e471ab",
   "metadata": {},
   "source": [
    "5.Answer"
   ]
  },
  {
   "cell_type": "code",
   "execution_count": 14,
   "id": "ae2c53f5",
   "metadata": {},
   "outputs": [
    {
     "name": "stdout",
     "output_type": "stream",
     "text": [
      "(42, 'düzenlediğiniz', 'teşekkür')\n"
     ]
    }
   ],
   "source": [
    "def kelime_sayaci(metin):\n",
    "    kelimeler = metin.split()\n",
    "    toplam = len(kelimeler)\n",
    "    en_uzun = max(kelimeler, key=len)\n",
    "    en_cok = max(set(kelimeler), key=kelimeler.count)\n",
    "    return toplam, en_uzun, en_cok\n",
    "\n",
    "print(kelime_sayaci(\"Techcareer ekibine teşekkür ederim . Sağladığınız eğitimler sayesinde hem teknik bilgilerimi \"\n",
    "                    \"geliştirme hem de sektörel bakış açısı kazanma fırsatı buldum. Özellikle düzenlediğiniz dersle\"\n",
    "                    \"r, kariyerime yön vermemde ve yeni beceriler edinmemde çok faydalı oldu. Böyle değerli içerikler su\"\n",
    "                    \"nduğunuz için minnettarım. teşekkür , teşekkür\"))\n"
   ]
  },
  {
   "cell_type": "markdown",
   "id": "6291165e",
   "metadata": {},
   "source": [
    "6.Answer"
   ]
  },
  {
   "cell_type": "code",
   "execution_count": 15,
   "id": "5f8307a5",
   "metadata": {},
   "outputs": [
    {
     "name": "stdout",
     "output_type": "stream",
     "text": [
      "Çiftler: [10, 12, 36, 24, 4]\n",
      "Kareler: [100, 144, 1296, 576, 16]\n",
      "Azalan: [1296, 576, 144, 100, 16]\n"
     ]
    }
   ],
   "source": [
    "sayilar = [10, 12, 7, 36, 24, 9, 4]\n",
    "\n",
    "ciftler = list(filter(lambda x: x%2==0, sayilar))\n",
    "kareler = list(map(lambda x: x**2, ciftler))\n",
    "sirali = sorted(kareler, reverse=True)\n",
    "\n",
    "print(\"Çiftler:\", ciftler)\n",
    "print(\"Kareler:\", kareler)\n",
    "print(\"Azalan:\", sirali)"
   ]
  },
  {
   "cell_type": "markdown",
   "id": "29417cb0",
   "metadata": {},
   "source": [
    "7.Answer"
   ]
  },
  {
   "cell_type": "code",
   "execution_count": 16,
   "id": "e275cb60",
   "metadata": {},
   "outputs": [
    {
     "name": "stdout",
     "output_type": "stream",
     "text": [
      "['veri', 'bilim', 'analiz', 'python', 'yapayzeka']\n"
     ]
    }
   ],
   "source": [
    "kelimeler = [\"veri\", \"bilim\", \"analiz\", \"yapayzeka\", \"python\"]\n",
    "\n",
    "sirali = sorted(kelimeler, key=lambda x: len(x))\n",
    "print(sirali)\n"
   ]
  },
  {
   "cell_type": "markdown",
   "id": "f0707e24",
   "metadata": {},
   "source": [
    "8.Answer"
   ]
  },
  {
   "cell_type": "code",
   "execution_count": 17,
   "id": "72ef37fe",
   "metadata": {},
   "outputs": [
    {
     "name": "stdout",
     "output_type": "stream",
     "text": [
      "11\n"
     ]
    }
   ],
   "source": [
    "def rakam_toplami(metin):\n",
    "    sayilar = [int(c) for c in metin if c.isdigit()]\n",
    "    return sum(sayilar)\n",
    "\n",
    "print(rakam_toplami(\"abc12def35\"))  # 1+2+3+5 = 11\n"
   ]
  },
  {
   "cell_type": "markdown",
   "id": "71800179",
   "metadata": {},
   "source": [
    "9.Answer"
   ]
  },
  {
   "cell_type": "code",
   "execution_count": 1,
   "id": "bcfca665",
   "metadata": {},
   "outputs": [
    {
     "name": "stdout",
     "output_type": "stream",
     "text": [
      "Dizi: [ 0 33 21 14 20  6 38 16 23 42]\n",
      "Ortalama: 21.3\n",
      "Standart Sapma: 12.720455966670377\n",
      "En Büyük: 42\n"
     ]
    }
   ],
   "source": [
    "import numpy as np\n",
    "\n",
    "array = np.random.randint(0, 51, 10)\n",
    "print(\"Dizi:\", array)\n",
    "print(\"Ortalama:\", array.mean())\n",
    "print(\"Standart Sapma:\", array.std())\n",
    "print(\"En Büyük:\", array.max())\n"
   ]
  },
  {
   "cell_type": "markdown",
   "id": "14cabcb6",
   "metadata": {},
   "source": [
    "10.Answer"
   ]
  },
  {
   "cell_type": "code",
   "execution_count": 2,
   "id": "3e7d0d21",
   "metadata": {},
   "outputs": [
    {
     "name": "stdout",
     "output_type": "stream",
     "text": [
      "Matris:\n",
      " [[0.34261575 0.9355643  0.86473809 0.97956011 0.25542403]\n",
      " [0.6699041  0.9061314  0.8791511  0.22955973 0.8309064 ]\n",
      " [0.08323448 0.98163269 0.67177074 0.1307483  0.37691014]\n",
      " [0.01868717 0.01755928 0.78868187 0.67567166 0.57667502]\n",
      " [0.09937856 0.41054165 0.08725219 0.10713549 0.78132634]]\n",
      "Sütun ortalamaları: [0.24276401 0.65028586 0.6583188  0.42453506 0.56424839]\n",
      "Binary matris:\n",
      " [[0 1 1 1 0]\n",
      " [1 1 1 0 1]\n",
      " [0 1 1 0 0]\n",
      " [0 0 1 1 1]\n",
      " [0 0 0 0 1]]\n"
     ]
    }
   ],
   "source": [
    "matris = np.random.rand(5,5)\n",
    "\n",
    "sutun_ort = matris.mean(axis=0)\n",
    "binary = (matris > 0.5).astype(int)\n",
    "\n",
    "print(\"Matris:\\n\", matris)\n",
    "print(\"Sütun ortalamaları:\", sutun_ort)\n",
    "print(\"Binary matris:\\n\", binary)"
   ]
  }
 ],
 "metadata": {
  "kernelspec": {
   "display_name": "Python 3",
   "language": "python",
   "name": "python3"
  },
  "language_info": {
   "codemirror_mode": {
    "name": "ipython",
    "version": 3
   },
   "file_extension": ".py",
   "mimetype": "text/x-python",
   "name": "python",
   "nbconvert_exporter": "python",
   "pygments_lexer": "ipython3",
   "version": "3.13.7"
  }
 },
 "nbformat": 4,
 "nbformat_minor": 5
}
