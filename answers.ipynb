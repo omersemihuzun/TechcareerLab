{
 "cells": [
  {
   "cell_type": "markdown",
   "id": "ccc0b114",
   "metadata": {},
   "source": [
    "1.Answer"
   ]
  },
  {
   "cell_type": "code",
   "execution_count": 1,
   "id": "70f8de6f",
   "metadata": {},
   "outputs": [
    {
     "name": "stdout",
     "output_type": "stream",
     "text": [
      "Benzersiz: [100, 92, 85, 76]\n",
      "En yüksek: 100\n",
      "En düşük: 76\n",
      "Sıralı: [76, 76, 85, 85, 92, 92, 92, 100]\n"
     ]
    }
   ],
   "source": [
    "notlar = [85, 92, 76, 92, 100, 76, 85, 92]\n",
    "\n",
    "# Tekrar edenleri silip benzersiz liste\n",
    "benzersiz = list(set(notlar))\n",
    "'''\n",
    "benzersiz = []\n",
    "for n in notlar:\n",
    "    if n not in benzersiz:\n",
    "        benzersiz.append(n)\n",
    "'''\n",
    "# En yüksek ve en düşük not\n",
    "en_yuksek = max(notlar)\n",
    "en_dusuk = min(notlar)\n",
    "\n",
    "# Küçükten büyüğe sıralama\n",
    "sirali = sorted(notlar)\n",
    "\n",
    "print(\"Benzersiz:\", benzersiz)\n",
    "print(\"En yüksek:\", en_yuksek)\n",
    "print(\"En düşük:\", en_dusuk)\n",
    "print(\"Sıralı:\", sirali)"
   ]
  },
  {
   "cell_type": "markdown",
   "id": "67d03cad",
   "metadata": {},
   "source": [
    "2.Answer"
   ]
  },
  {
   "cell_type": "code",
   "execution_count": null,
   "id": "cd79bc6f",
   "metadata": {},
   "outputs": [],
   "source": [
    "def armstrong_check(sayi):\n",
    "    toplam = 0\n",
    "    for h in str(sayi):\n",
    "        toplam += int(h) ** 3\n",
    "    return toplam == sayi\n",
    "'''\n",
    "toplam = sum(int(h)**3 for h in str(sayi))\n",
    "    return toplam == sayi\n",
    "'''\n",
    "print(armstrong_check(153))  # True\n",
    "print(armstrong_check(250))  # False\n"
   ]
  },
  {
   "cell_type": "markdown",
   "id": "3e2b3aca",
   "metadata": {},
   "source": [
    "3.Answer"
   ]
  },
  {
   "cell_type": "code",
   "execution_count": null,
   "id": "bf78db4a",
   "metadata": {},
   "outputs": [],
   "source": [
    "A = {\"Python\", \"R\", \"SQL\", \"Java\"}\n",
    "B = {\"C++\", \"Python\", \"JavaScript\", \"SQL\"}\n",
    "\n",
    "print(\"Ortak:\", A & B)\n",
    "print(\"Sadece A:\", A - B)\n",
    "print(\"Birleşim:\", sorted(A | B))\n"
   ]
  },
  {
   "cell_type": "markdown",
   "id": "3d18f6fc",
   "metadata": {},
   "source": [
    "4.Answer"
   ]
  },
  {
   "cell_type": "code",
   "execution_count": null,
   "id": "4523cf2a",
   "metadata": {},
   "outputs": [],
   "source": []
  },
  {
   "cell_type": "markdown",
   "id": "35e471ab",
   "metadata": {},
   "source": []
  },
  {
   "cell_type": "code",
   "execution_count": null,
   "id": "ae2c53f5",
   "metadata": {},
   "outputs": [],
   "source": []
  },
  {
   "cell_type": "markdown",
   "id": "6291165e",
   "metadata": {},
   "source": []
  },
  {
   "cell_type": "code",
   "execution_count": null,
   "id": "5f8307a5",
   "metadata": {},
   "outputs": [],
   "source": []
  }
 ],
 "metadata": {
  "kernelspec": {
   "display_name": ".venv",
   "language": "python",
   "name": "python3"
  },
  "language_info": {
   "codemirror_mode": {
    "name": "ipython",
    "version": 3
   },
   "file_extension": ".py",
   "mimetype": "text/x-python",
   "name": "python",
   "nbconvert_exporter": "python",
   "pygments_lexer": "ipython3",
   "version": "3.13.6"
  }
 },
 "nbformat": 4,
 "nbformat_minor": 5
}
